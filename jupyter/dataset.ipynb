{
 "cells": [
  {
   "cell_type": "code",
   "execution_count": 1,
   "metadata": {},
   "outputs": [],
   "source": [
    "import json\n",
    "from pathlib import Path"
   ]
  },
  {
   "cell_type": "code",
   "execution_count": 2,
   "metadata": {},
   "outputs": [],
   "source": [
    "librispeech = Path('data/datasets/librispeech')\n",
    "assert librispeech.exists()"
   ]
  },
  {
   "cell_type": "code",
   "execution_count": 4,
   "metadata": {},
   "outputs": [],
   "source": [
    "names = ['dev-clean', 'train-clean-100', 'test-clean', 'test-other']\n",
    "index = []\n",
    "for name in names:\n",
    "    index_path = librispeech / f'{name}_index.json'\n",
    "    assert index_path.exists()\n",
    "    with open(index_path, 'r') as f:\n",
    "        index.append(json.load(f))"
   ]
  },
  {
   "cell_type": "code",
   "execution_count": 9,
   "metadata": {},
   "outputs": [
    {
     "data": {
      "text/html": [
       "<div>\n",
       "<style scoped>\n",
       "    .dataframe tbody tr th:only-of-type {\n",
       "        vertical-align: middle;\n",
       "    }\n",
       "\n",
       "    .dataframe tbody tr th {\n",
       "        vertical-align: top;\n",
       "    }\n",
       "\n",
       "    .dataframe thead th {\n",
       "        text-align: right;\n",
       "    }\n",
       "</style>\n",
       "<table border=\"1\" class=\"dataframe\">\n",
       "  <thead>\n",
       "    <tr style=\"text-align: right;\">\n",
       "      <th></th>\n",
       "      <th>n_samples</th>\n",
       "      <th>max_audio_len</th>\n",
       "      <th>audio_len_99%</th>\n",
       "      <th>audio_len_95%</th>\n",
       "      <th>max_text_len</th>\n",
       "      <th>max_text_len_99%</th>\n",
       "      <th>max_text_len_95%</th>\n",
       "      <th>n_hours</th>\n",
       "    </tr>\n",
       "  </thead>\n",
       "  <tbody>\n",
       "    <tr>\n",
       "      <th>dev-clean</th>\n",
       "      <td>2703</td>\n",
       "      <td>32.645</td>\n",
       "      <td>23.755</td>\n",
       "      <td>16.4135</td>\n",
       "      <td>516</td>\n",
       "      <td>366.96</td>\n",
       "      <td>256.9</td>\n",
       "      <td>5.387811</td>\n",
       "    </tr>\n",
       "    <tr>\n",
       "      <th>train-clean-100</th>\n",
       "      <td>28539</td>\n",
       "      <td>24.525</td>\n",
       "      <td>16.7031</td>\n",
       "      <td>16.085</td>\n",
       "      <td>398</td>\n",
       "      <td>289.0</td>\n",
       "      <td>262.0</td>\n",
       "      <td>100.59088</td>\n",
       "    </tr>\n",
       "    <tr>\n",
       "      <th>test-clean</th>\n",
       "      <td>2620</td>\n",
       "      <td>34.955</td>\n",
       "      <td>25.47575</td>\n",
       "      <td>17.842</td>\n",
       "      <td>576</td>\n",
       "      <td>363.05</td>\n",
       "      <td>261.0</td>\n",
       "      <td>5.403467</td>\n",
       "    </tr>\n",
       "    <tr>\n",
       "      <th>test-other</th>\n",
       "      <td>2939</td>\n",
       "      <td>34.51</td>\n",
       "      <td>21.4248</td>\n",
       "      <td>15.761</td>\n",
       "      <td>618</td>\n",
       "      <td>320.24</td>\n",
       "      <td>226.0</td>\n",
       "      <td>5.341547</td>\n",
       "    </tr>\n",
       "  </tbody>\n",
       "</table>\n",
       "</div>"
      ],
      "text/plain": [
       "                n_samples max_audio_len audio_len_99% audio_len_95%  \\\n",
       "dev-clean            2703        32.645        23.755       16.4135   \n",
       "train-clean-100     28539        24.525       16.7031        16.085   \n",
       "test-clean           2620        34.955      25.47575        17.842   \n",
       "test-other           2939         34.51       21.4248        15.761   \n",
       "\n",
       "                max_text_len max_text_len_99% max_text_len_95%    n_hours  \n",
       "dev-clean                516           366.96            256.9   5.387811  \n",
       "train-clean-100          398            289.0            262.0  100.59088  \n",
       "test-clean               576           363.05            261.0   5.403467  \n",
       "test-other               618           320.24            226.0   5.341547  "
      ]
     },
     "execution_count": 9,
     "metadata": {},
     "output_type": "execute_result"
    }
   ],
   "source": [
    "import pandas as pd\n",
    "import numpy as np\n",
    "\n",
    "q = [99, 95]\n",
    "df = pd.DataFrame(columns=(\n",
    "    ['n_samples', 'max_audio_len'] + \n",
    "    [f'audio_len_{q_i}%' for q_i in q] + \n",
    "    ['max_text_len'] +\n",
    "    [f'max_text_len_{q_i}%' for q_i in q] +\n",
    "    ['n_hours']\n",
    "))\n",
    "\n",
    "for name, ind in zip(names, index):\n",
    "    n_samples = len(ind)\n",
    "\n",
    "    audio_len = [x['audio_len'] for x in ind]\n",
    "    max_audio_len = max(audio_len)\n",
    "\n",
    "    text_len = [len(x['text']) for x in ind]\n",
    "    max_text_len = max(text_len)\n",
    "\n",
    "    df.loc[name, :] = (\n",
    "        [n_samples, max(audio_len)] +\n",
    "        [np.quantile(audio_len, q=q_i/100) for q_i in q] +\n",
    "        [max(text_len)] +\n",
    "        [np.quantile(text_len, q=q_i/100) for q_i in q] +\n",
    "        [sum(audio_len) / 60 / 60]\n",
    "    )\n",
    "df"
   ]
  },
  {
   "cell_type": "code",
   "execution_count": null,
   "metadata": {},
   "outputs": [],
   "source": []
  }
 ],
 "metadata": {
  "kernelspec": {
   "display_name": "cuda_env",
   "language": "python",
   "name": "python3"
  },
  "language_info": {
   "codemirror_mode": {
    "name": "ipython",
    "version": 3
   },
   "file_extension": ".py",
   "mimetype": "text/x-python",
   "name": "python",
   "nbconvert_exporter": "python",
   "pygments_lexer": "ipython3",
   "version": "3.11.5"
  }
 },
 "nbformat": 4,
 "nbformat_minor": 2
}
