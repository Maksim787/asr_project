{
 "cells": [
  {
   "cell_type": "code",
   "execution_count": 1,
   "metadata": {},
   "outputs": [],
   "source": [
    "import numpy as np\n",
    "import time\n",
    "import torch\n",
    "from hw_asr.text_encoder.ctc_char_text_encoder import CTCCharTextEncoder"
   ]
  },
  {
   "cell_type": "code",
   "execution_count": 5,
   "metadata": {},
   "outputs": [
    {
     "name": "stdout",
     "output_type": "stream",
     "text": [
      "beam_size = 10\n",
      "106 ms ± 1.82 ms per loop (mean ± std. dev. of 7 runs, 10 loops each)\n",
      "beam_size = 20\n",
      "212 ms ± 9.39 ms per loop (mean ± std. dev. of 7 runs, 1 loop each)\n",
      "beam_size = 50\n",
      "464 ms ± 11.5 ms per loop (mean ± std. dev. of 7 runs, 1 loop each)\n",
      "beam_size = 70\n",
      "624 ms ± 13.2 ms per loop (mean ± std. dev. of 7 runs, 1 loop each)\n",
      "beam_size = 100\n",
      "888 ms ± 6.54 ms per loop (mean ± std. dev. of 7 runs, 1 loop each)\n",
      "beam_size = 120\n",
      "1.09 s ± 45.9 ms per loop (mean ± std. dev. of 7 runs, 1 loop each)\n",
      "beam_size = 150\n",
      "1.43 s ± 61.9 ms per loop (mean ± std. dev. of 7 runs, 1 loop each)\n"
     ]
    }
   ],
   "source": [
    "text_encoder = CTCCharTextEncoder()\n",
    "log_probs_length = 270\n",
    "probs = torch.full((log_probs_length, len(text_encoder.char2ind)), 1 / len(text_encoder.char2ind))\n",
    "for beam_size in [10, 20, 50, 70, 100, 120, 150]:\n",
    "    print(f'{beam_size = }')\n",
    "    %timeit text_encoder.ctc_beam_search(torch.log(probs), log_probs_length, beam_size=beam_size)"
   ]
  }
 ],
 "metadata": {
  "kernelspec": {
   "display_name": "cuda_env",
   "language": "python",
   "name": "python3"
  },
  "language_info": {
   "codemirror_mode": {
    "name": "ipython",
    "version": 3
   },
   "file_extension": ".py",
   "mimetype": "text/x-python",
   "name": "python",
   "nbconvert_exporter": "python",
   "pygments_lexer": "ipython3",
   "version": "3.11.5"
  }
 },
 "nbformat": 4,
 "nbformat_minor": 2
}
