{
 "cells": [
  {
   "cell_type": "code",
   "execution_count": 7,
   "metadata": {},
   "outputs": [],
   "source": [
    "import json\n",
    "from pathlib import Path"
   ]
  },
  {
   "cell_type": "code",
   "execution_count": 3,
   "metadata": {},
   "outputs": [],
   "source": [
    "librispeech = Path('data/datasets/librispeech')\n",
    "assert librispeech.exists()"
   ]
  },
  {
   "cell_type": "code",
   "execution_count": 10,
   "metadata": {},
   "outputs": [],
   "source": [
    "names = ['dev-clean', 'train-clean-100']\n",
    "index = []\n",
    "for name in names:\n",
    "    index_path = librispeech / f'{name}_index.json'\n",
    "    assert index_path.exists()\n",
    "    with open(index_path, 'r') as f:\n",
    "        index.append(json.load(f))"
   ]
  },
  {
   "cell_type": "code",
   "execution_count": 14,
   "metadata": {},
   "outputs": [
    {
     "data": {
      "text/plain": [
       "{'path': 'D:\\\\Learning\\\\4_course\\\\DLA\\\\asr_project\\\\data\\\\datasets\\\\librispeech\\\\dev-clean\\\\174\\\\168635\\\\174-168635-0000.flac',\n",
       " 'text': 'he had never been father lover husband friend',\n",
       " 'audio_len': 4.53}"
      ]
     },
     "execution_count": 14,
     "metadata": {},
     "output_type": "execute_result"
    }
   ],
   "source": [
    "index[0][0]"
   ]
  },
  {
   "cell_type": "code",
   "execution_count": 30,
   "metadata": {},
   "outputs": [
    {
     "data": {
      "text/html": [
       "<div>\n",
       "<style scoped>\n",
       "    .dataframe tbody tr th:only-of-type {\n",
       "        vertical-align: middle;\n",
       "    }\n",
       "\n",
       "    .dataframe tbody tr th {\n",
       "        vertical-align: top;\n",
       "    }\n",
       "\n",
       "    .dataframe thead th {\n",
       "        text-align: right;\n",
       "    }\n",
       "</style>\n",
       "<table border=\"1\" class=\"dataframe\">\n",
       "  <thead>\n",
       "    <tr style=\"text-align: right;\">\n",
       "      <th></th>\n",
       "      <th>n_samples</th>\n",
       "      <th>max_audio_len</th>\n",
       "      <th>audio_len_99</th>\n",
       "      <th>audio_len_95</th>\n",
       "      <th>max_text_len</th>\n",
       "      <th>max_text_len_99</th>\n",
       "      <th>max_text_len_95</th>\n",
       "      <th>h_hours</th>\n",
       "    </tr>\n",
       "  </thead>\n",
       "  <tbody>\n",
       "    <tr>\n",
       "      <th>dev-clean</th>\n",
       "      <td>2703</td>\n",
       "      <td>32.645</td>\n",
       "      <td>23.755</td>\n",
       "      <td>16.4135</td>\n",
       "      <td>516</td>\n",
       "      <td>366.96</td>\n",
       "      <td>256.9</td>\n",
       "      <td>5.387811</td>\n",
       "    </tr>\n",
       "    <tr>\n",
       "      <th>train-clean-100</th>\n",
       "      <td>28539</td>\n",
       "      <td>24.525</td>\n",
       "      <td>16.7031</td>\n",
       "      <td>16.085</td>\n",
       "      <td>398</td>\n",
       "      <td>289.0</td>\n",
       "      <td>262.0</td>\n",
       "      <td>100.59088</td>\n",
       "    </tr>\n",
       "  </tbody>\n",
       "</table>\n",
       "</div>"
      ],
      "text/plain": [
       "                n_samples max_audio_len audio_len_99 audio_len_95  \\\n",
       "dev-clean            2703        32.645       23.755      16.4135   \n",
       "train-clean-100     28539        24.525      16.7031       16.085   \n",
       "\n",
       "                max_text_len max_text_len_99 max_text_len_95    h_hours  \n",
       "dev-clean                516          366.96           256.9   5.387811  \n",
       "train-clean-100          398           289.0           262.0  100.59088  "
      ]
     },
     "execution_count": 30,
     "metadata": {},
     "output_type": "execute_result"
    }
   ],
   "source": [
    "import pandas as pd\n",
    "import numpy as np\n",
    "\n",
    "q = [99, 95]\n",
    "df = pd.DataFrame(columns=(\n",
    "    ['n_samples', 'max_audio_len'] + \n",
    "    [f'audio_len_{q_i}' for q_i in q] + \n",
    "    ['max_text_len'] +\n",
    "    [f'max_text_len_{q_i}' for q_i in q] +\n",
    "    ['h_hours']\n",
    "))\n",
    "\n",
    "for name, ind in zip(names, index):\n",
    "    n_samples = len(ind)\n",
    "\n",
    "    audio_len = [x['audio_len'] for x in ind]\n",
    "    max_audio_len = max(audio_len)\n",
    "\n",
    "    text_len = [len(x['text']) for x in ind]\n",
    "    max_text_len = max(text_len)\n",
    "\n",
    "    df.loc[name, :] = (\n",
    "        [n_samples, max(audio_len)] +\n",
    "        [np.quantile(audio_len, q=q_i/100) for q_i in q] +\n",
    "        [max(text_len)] +\n",
    "        [np.quantile(text_len, q=q_i/100) for q_i in q] +\n",
    "        [sum(audio_len) / 60 / 60]\n",
    "    )\n",
    "df"
   ]
  }
 ],
 "metadata": {
  "kernelspec": {
   "display_name": "cuda_env",
   "language": "python",
   "name": "python3"
  },
  "language_info": {
   "codemirror_mode": {
    "name": "ipython",
    "version": 3
   },
   "file_extension": ".py",
   "mimetype": "text/x-python",
   "name": "python",
   "nbconvert_exporter": "python",
   "pygments_lexer": "ipython3",
   "version": "3.11.5"
  }
 },
 "nbformat": 4,
 "nbformat_minor": 2
}
