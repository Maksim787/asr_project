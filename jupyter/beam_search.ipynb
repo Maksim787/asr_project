{
 "cells": [
  {
   "cell_type": "code",
   "execution_count": 1,
   "metadata": {},
   "outputs": [],
   "source": [
    "import torch\n",
    "from hw_asr.text_encoder.ctc_char_text_encoder import CTCCharTextEncoder"
   ]
  },
  {
   "cell_type": "code",
   "execution_count": 2,
   "metadata": {},
   "outputs": [
    {
     "name": "stdout",
     "output_type": "stream",
     "text": [
      "beam_size = 1\n",
      "9.44 ms ± 382 µs per loop (mean ± std. dev. of 7 runs, 100 loops each)\n",
      "beam_size = 5\n",
      "56.3 ms ± 1.57 ms per loop (mean ± std. dev. of 7 runs, 10 loops each)\n",
      "beam_size = 10\n",
      "114 ms ± 8.07 ms per loop (mean ± std. dev. of 7 runs, 10 loops each)\n",
      "beam_size = 20\n",
      "237 ms ± 31.1 ms per loop (mean ± std. dev. of 7 runs, 1 loop each)\n",
      "beam_size = 50\n",
      "479 ms ± 15.4 ms per loop (mean ± std. dev. of 7 runs, 1 loop each)\n",
      "beam_size = 70\n",
      "678 ms ± 70.7 ms per loop (mean ± std. dev. of 7 runs, 1 loop each)\n",
      "beam_size = 100\n",
      "938 ms ± 69.1 ms per loop (mean ± std. dev. of 7 runs, 1 loop each)\n",
      "beam_size = 120\n",
      "1.07 s ± 21.9 ms per loop (mean ± std. dev. of 7 runs, 1 loop each)\n",
      "beam_size = 150\n",
      "1.35 s ± 31.5 ms per loop (mean ± std. dev. of 7 runs, 1 loop each)\n"
     ]
    }
   ],
   "source": [
    "text_encoder = CTCCharTextEncoder()\n",
    "log_probs_length = 270\n",
    "probs = torch.full((log_probs_length, len(text_encoder.char2ind)), 1 / len(text_encoder.char2ind))\n",
    "for beam_size in [1, 5, 10, 20, 50, 70, 100, 120, 150]:\n",
    "    print(f'{beam_size = }')\n",
    "    %timeit text_encoder.ctc_beam_search(torch.log(probs), log_probs_length, beam_size=beam_size)"
   ]
  }
 ],
 "metadata": {
  "kernelspec": {
   "display_name": "cuda_env",
   "language": "python",
   "name": "python3"
  },
  "language_info": {
   "codemirror_mode": {
    "name": "ipython",
    "version": 3
   },
   "file_extension": ".py",
   "mimetype": "text/x-python",
   "name": "python",
   "nbconvert_exporter": "python",
   "pygments_lexer": "ipython3",
   "version": "3.11.5"
  }
 },
 "nbformat": 4,
 "nbformat_minor": 2
}
