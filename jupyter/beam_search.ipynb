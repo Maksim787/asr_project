{
 "cells": [
  {
   "cell_type": "code",
   "execution_count": 1,
   "metadata": {},
   "outputs": [],
   "source": [
    "import torch\n",
    "from tqdm import tqdm"
   ]
  },
  {
   "cell_type": "code",
   "execution_count": 2,
   "metadata": {},
   "outputs": [
    {
     "name": "stdout",
     "output_type": "stream",
     "text": [
      "beam_size = 1\n",
      "10 ms ± 883 µs per loop (mean ± std. dev. of 7 runs, 100 loops each)\n",
      "beam_size = 5\n",
      "58.2 ms ± 1.15 ms per loop (mean ± std. dev. of 7 runs, 10 loops each)\n",
      "beam_size = 10\n",
      "110 ms ± 3.87 ms per loop (mean ± std. dev. of 7 runs, 10 loops each)\n",
      "beam_size = 20\n",
      "203 ms ± 6.1 ms per loop (mean ± std. dev. of 7 runs, 1 loop each)\n",
      "beam_size = 50\n",
      "461 ms ± 11.6 ms per loop (mean ± std. dev. of 7 runs, 1 loop each)\n",
      "beam_size = 70\n",
      "622 ms ± 6.39 ms per loop (mean ± std. dev. of 7 runs, 1 loop each)\n",
      "beam_size = 100\n",
      "883 ms ± 7.99 ms per loop (mean ± std. dev. of 7 runs, 1 loop each)\n",
      "beam_size = 120\n",
      "1.12 s ± 177 ms per loop (mean ± std. dev. of 7 runs, 1 loop each)\n",
      "beam_size = 150\n",
      "1.4 s ± 184 ms per loop (mean ± std. dev. of 7 runs, 1 loop each)\n"
     ]
    }
   ],
   "source": [
    "from hw_asr.text_encoder.ctc_char_text_encoder import CTCCharTextEncoder\n",
    "\n",
    "text_encoder = CTCCharTextEncoder()\n",
    "log_probs_length = 270\n",
    "probs = torch.full((log_probs_length, len(text_encoder.char2ind)), 1 / len(text_encoder.char2ind))\n",
    "for beam_size in [1, 5, 10, 20, 50, 70, 100, 120, 150]:\n",
    "    print(f'{beam_size = }')\n",
    "    %timeit text_encoder.ctc_beam_search(torch.log(probs), log_probs_length, beam_size=beam_size)"
   ]
  },
  {
   "cell_type": "code",
   "execution_count": 3,
   "metadata": {},
   "outputs": [
    {
     "name": "stderr",
     "output_type": "stream",
     "text": [
      "The torchaudio backend is switched to 'soundfile'. Note that 'sox_io' is not supported on Windows.\n",
      "The torchaudio backend is switched to 'soundfile'. Note that 'sox_io' is not supported on Windows.\n"
     ]
    },
    {
     "name": "stdout",
     "output_type": "stream",
     "text": [
      "1 (0.0%) records are longer then 20.0 seconds. Excluding them.\n",
      "13243 (46.4%) records are longer then 200 characters. Excluding them.\n",
      "Filtered 13243(46.4%) records  from dataset\n",
      "61 (2.3%) records are longer then 20.0 seconds. Excluding them.\n",
      "292 (10.8%) records are longer then 200 characters. Excluding them.\n",
      "Filtered 292(10.8%) records  from dataset\n",
      "41 (1.4%) records are longer then 20.0 seconds. Excluding them.\n",
      "201 (7.0%) records are longer then 200 characters. Excluding them.\n",
      "Filtered 201(7.0%) records  from dataset\n"
     ]
    }
   ],
   "source": [
    "from hw_asr.tests.utils import clear_log_folder_after_use\n",
    "from hw_asr.utils.object_loading import get_dataloaders\n",
    "from hw_asr.utils.parse_config import ConfigParser\n",
    "\n",
    "\n",
    "config_parser = ConfigParser.get_debug_configs()\n",
    "sample_rate = config_parser.config[\"preprocessing\"][\"sr\"]\n",
    "with clear_log_folder_after_use(config_parser):\n",
    "    dataloaders = get_dataloaders(config_parser, config_parser.get_text_encoder())"
   ]
  },
  {
   "cell_type": "code",
   "execution_count": 268,
   "metadata": {},
   "outputs": [],
   "source": [
    "from hw_asr.model.deep_speech import DeepSpeech2\n",
    "import pathlib\n",
    "temp = pathlib.PosixPath\n",
    "pathlib.PosixPath = pathlib.WindowsPath\n",
    "\n",
    "model = DeepSpeech2(n_feats=128, n_class=28)\n",
    "checkpoint = torch.load(r'saved_server\\models\\deep_speech_2\\1024_134159\\checkpoint-epoch61.pth')\n",
    "model.load_state_dict(checkpoint['state_dict'])\n",
    "\n",
    "device = torch.device('cuda:0')\n",
    "\n",
    "\n",
    "def move_batch_to_device(batch):\n",
    "    batch = batch.copy()\n",
    "    for tensor_for_gpu in [\"spectrogram\", \"text_encoded\"]:\n",
    "        batch[tensor_for_gpu] = batch[tensor_for_gpu].to(device)\n",
    "    return batch\n",
    "\n",
    "\n",
    "model = model.to(device)\n",
    "\n",
    "N_BATCHES = 20\n",
    "batches = []\n",
    "for b in dataloaders['val-other']:\n",
    "    batches.append(b)\n",
    "    if len(batches) == N_BATCHES:\n",
    "        break"
   ]
  },
  {
   "cell_type": "code",
   "execution_count": 269,
   "metadata": {},
   "outputs": [
    {
     "name": "stderr",
     "output_type": "stream",
     "text": [
      "\n",
      "\u001b[A\n",
      "\u001b[A\n",
      "\u001b[A\n",
      "\u001b[A\n",
      "\u001b[A\n",
      "\u001b[A\n",
      "\u001b[A\n",
      "\u001b[A\n",
      "\u001b[A\n",
      "\u001b[A\n",
      "\u001b[A\n",
      "\u001b[A\n",
      "\u001b[A\n",
      "\u001b[A\n",
      "\u001b[A\n",
      "\u001b[A\n",
      "\u001b[A\n",
      "\u001b[A\n",
      "\u001b[A\n",
      "\u001b[A\n",
      "100%|██████████| 20/20 [00:21<00:00,  1.09s/it]\n"
     ]
    }
   ],
   "source": [
    "with torch.no_grad():\n",
    "    log_probs = []\n",
    "    log_probs_length = []\n",
    "    text = []\n",
    "    for b in tqdm(batches):\n",
    "        output = model(**move_batch_to_device(b))\n",
    "        output[\"log_probs\"] = torch.log_softmax(output[\"logits\"], dim=-1)\n",
    "        output[\"log_probs_length\"] = model.transform_input_lengths(b[\"spectrogram_length\"])\n",
    "        for i in range(len(b['text'])):\n",
    "            log_probs.append(output['log_probs'][i])\n",
    "            log_probs_length.append(output['log_probs_length'][i])\n",
    "            text.append(b['text'][i])"
   ]
  },
  {
   "cell_type": "code",
   "execution_count": 270,
   "metadata": {},
   "outputs": [],
   "source": [
    "N_EXAMPLES = N_BATCHES * dataloaders['val-other'].batch_size"
   ]
  },
  {
   "cell_type": "code",
   "execution_count": 271,
   "metadata": {},
   "outputs": [
    {
     "name": "stderr",
     "output_type": "stream",
     "text": [
      "\n",
      "\u001b[A\n",
      "\u001b[A\n",
      "\u001b[A\n",
      "\u001b[A\n",
      "\u001b[A\n",
      "\u001b[A\n",
      "\u001b[A\n",
      "\u001b[A\n",
      "\u001b[A\n",
      "\u001b[A\n",
      "\u001b[A\n",
      "\u001b[A\n",
      "\u001b[A\n",
      "\u001b[A\n",
      "\u001b[A\n",
      "\u001b[A\n",
      "\u001b[A\n",
      "\u001b[A\n",
      "\u001b[A\n",
      "\u001b[A\n",
      "\u001b[A\n",
      "\u001b[A\n",
      "\u001b[A\n",
      "\u001b[A\n",
      "\u001b[A\n",
      "\u001b[A\n",
      "\u001b[A\n",
      "\u001b[A\n",
      "\u001b[A\n",
      "\u001b[A\n",
      "\u001b[A\n",
      "\u001b[A\n",
      "\u001b[A\n",
      "\u001b[A\n",
      "\u001b[A\n",
      "\u001b[A\n",
      "\u001b[A\n",
      "\u001b[A\n",
      "\u001b[A\n",
      "\u001b[A\n",
      "\u001b[A\n",
      "\u001b[A\n",
      "\u001b[A\n",
      "\u001b[A\n",
      "\u001b[A\n",
      "\u001b[A\n",
      "\u001b[A\n",
      "\u001b[A\n",
      "\u001b[A\n",
      "\u001b[A\n",
      "\u001b[A\n",
      "\u001b[A\n",
      "\u001b[A\n",
      "\u001b[A\n",
      "\u001b[A\n",
      "\u001b[A\n",
      "\u001b[A\n",
      "\u001b[A\n",
      "\u001b[A\n",
      "\u001b[A\n",
      "\u001b[A\n",
      "\u001b[A\n",
      "\u001b[A\n",
      "\u001b[A\n",
      "\u001b[A\n",
      "\u001b[A\n",
      "\u001b[A\n",
      "\u001b[A\n",
      "\u001b[A\n",
      "\u001b[A\n",
      "\u001b[A\n",
      "\u001b[A\n",
      "\u001b[A\n",
      "\u001b[A\n",
      "\u001b[A\n",
      "\u001b[A\n",
      "\u001b[A\n",
      "\u001b[A\n",
      "\u001b[A\n",
      "\u001b[A\n",
      "\u001b[A\n",
      "\u001b[A\n",
      "\u001b[A\n",
      "\u001b[A\n",
      "\u001b[A\n",
      "\u001b[A\n",
      "\u001b[A\n",
      "\u001b[A\n",
      "\u001b[A\n",
      "\u001b[A\n",
      "\u001b[A\n",
      "\u001b[A\n",
      "\u001b[A\n",
      "\u001b[A\n",
      "\u001b[A\n",
      "\u001b[A\n",
      "\u001b[A\n",
      "\u001b[A\n",
      "\u001b[A\n",
      "\u001b[A\n",
      "\u001b[A\n",
      "\u001b[A\n",
      "\u001b[A\n",
      "\u001b[A\n",
      "\u001b[A\n",
      "\u001b[A\n",
      "\u001b[A\n",
      "\u001b[A\n",
      "\u001b[A\n",
      "\u001b[A\n",
      "\u001b[A\n",
      "\u001b[A\n",
      "\u001b[A\n",
      "\u001b[A\n",
      "\u001b[A\n",
      "\u001b[A\n",
      "\u001b[A\n",
      "\u001b[A\n",
      "\u001b[A\n",
      "\u001b[A\n",
      "\u001b[A\n",
      "\u001b[A\n",
      "\u001b[A\n",
      "\u001b[A\n",
      "\u001b[A\n",
      "\u001b[A\n",
      "\u001b[A\n",
      "\u001b[A\n",
      "\u001b[A\n",
      "\u001b[A\n",
      "\u001b[A\n",
      "\u001b[A\n",
      "\u001b[A\n",
      "\u001b[A\n",
      "\u001b[A\n",
      "\u001b[A\n",
      "\u001b[A\n",
      "\u001b[A\n",
      "\u001b[A\n",
      "\u001b[A\n",
      "\u001b[A\n",
      "\u001b[A\n",
      "\u001b[A\n",
      "\u001b[A\n",
      "\u001b[A\n",
      "\u001b[A\n",
      "\u001b[A\n",
      "\u001b[A\n",
      "\u001b[A\n",
      "\u001b[A\n",
      "\u001b[A\n",
      "\u001b[A\n",
      "\u001b[A\n",
      "\u001b[A\n",
      "\u001b[A\n",
      "\u001b[A\n",
      "\u001b[A\n",
      "\u001b[A\n",
      "\u001b[A\n",
      "\u001b[A\n",
      "\u001b[A\n",
      "\u001b[A\n",
      "\u001b[A\n",
      "\u001b[A\n",
      "\u001b[A\n",
      "\u001b[A\n",
      "\u001b[A\n",
      "\u001b[A\n",
      "\u001b[A\n",
      "\u001b[A\n",
      "\u001b[A\n",
      "\u001b[A\n",
      "\u001b[A\n",
      "\u001b[A\n",
      "\u001b[A\n",
      "\u001b[A\n",
      "\u001b[A\n",
      "\u001b[A\n",
      "\u001b[A\n",
      "\u001b[A\n",
      "\u001b[A\n",
      "\u001b[A\n",
      "\u001b[A\n",
      "\u001b[A\n",
      "\u001b[A\n",
      "\u001b[A\n",
      "\u001b[A\n",
      "\u001b[A\n",
      "\u001b[A\n",
      "\u001b[A\n",
      "\u001b[A\n",
      "\u001b[A\n",
      "\u001b[A\n",
      "\u001b[A\n",
      "\u001b[A\n",
      "\u001b[A\n",
      "\u001b[A\n",
      "\u001b[A\n",
      "\u001b[A\n",
      "\u001b[A\n",
      "\u001b[A\n",
      "\u001b[A\n",
      "\u001b[A\n",
      "\u001b[A\n",
      "\u001b[A\n",
      "\u001b[A\n",
      "\u001b[A\n",
      "\u001b[A\n",
      "\u001b[A\n",
      "\u001b[A\n",
      "\u001b[A\n",
      "\u001b[A\n",
      "\u001b[A\n",
      "\u001b[A\n",
      "\u001b[A\n",
      "\u001b[A\n",
      "\u001b[A\n",
      "\u001b[A\n",
      "\u001b[A\n",
      "\u001b[A\n",
      "\u001b[A\n",
      "\u001b[A\n",
      "\u001b[A\n",
      "\u001b[A\n",
      "\u001b[A\n",
      "\u001b[A\n",
      "\u001b[A\n",
      "\u001b[A\n",
      "\u001b[A\n",
      "\u001b[A\n",
      "\u001b[A\n",
      "\u001b[A\n",
      "\u001b[A\n",
      "\u001b[A\n",
      "\u001b[A\n",
      "\u001b[A\n",
      "\u001b[A\n",
      "\u001b[A\n",
      "\u001b[A\n",
      "\u001b[A\n",
      "\u001b[A\n",
      "\u001b[A\n",
      "\u001b[A\n",
      "\u001b[A\n",
      "\u001b[A\n",
      "\u001b[A\n",
      "\u001b[A\n",
      "\u001b[A\n",
      "\u001b[A\n",
      "\u001b[A\n",
      "\u001b[A\n",
      "\u001b[A\n",
      "\u001b[A\n",
      "\u001b[A\n",
      "\u001b[A\n",
      "\u001b[A\n",
      "\u001b[A\n",
      "\u001b[A\n",
      "\u001b[A\n",
      "\u001b[A\n",
      "\u001b[A\n",
      "\u001b[A\n",
      "\u001b[A\n",
      "\u001b[A\n",
      "\u001b[A\n",
      "\u001b[A\n",
      "\u001b[A\n",
      "\u001b[A\n",
      "\u001b[A\n",
      "\u001b[A\n",
      "\u001b[A\n",
      "\u001b[A\n",
      "\u001b[A\n",
      "\u001b[A\n",
      "\u001b[A\n",
      "\u001b[A\n",
      "\u001b[A\n",
      "\u001b[A\n",
      "\u001b[A\n",
      "\u001b[A\n",
      "\u001b[A\n",
      "\u001b[A\n",
      "\u001b[A\n",
      "\u001b[A\n",
      "\u001b[A\n",
      "\u001b[A\n",
      "\u001b[A\n",
      "\u001b[A\n",
      "\u001b[A\n",
      "\u001b[A\n",
      "\u001b[A\n",
      "\u001b[A\n",
      "\u001b[A\n",
      "\u001b[A\n",
      "\u001b[A\n",
      "\u001b[A\n",
      "\u001b[A\n",
      "\u001b[A\n",
      "100%|██████████| 640/640 [00:53<00:00, 11.98it/s]\n"
     ]
    }
   ],
   "source": [
    "from hw_asr.text_encoder.ctc_char_text_encoder import CTCCharTextEncoder\n",
    "\n",
    "text_encoder = CTCCharTextEncoder()\n",
    "\n",
    "pred_argmax = []\n",
    "for i in range(N_EXAMPLES):\n",
    "    log_prob_vec = torch.argmax(log_probs[i].cpu(), dim=-1).numpy()\n",
    "    pred_text = text_encoder.ctc_decode_enhanced(log_prob_vec[:log_probs_length[i]])\n",
    "    pred_argmax.append(pred_text)\n",
    "\n",
    "pred_beam_search = [text_encoder.ctc_beam_search(log_probs[i], log_probs_length[i], beam_size=5)[0].text for i in tqdm(range(N_EXAMPLES))]"
   ]
  },
  {
   "cell_type": "code",
   "execution_count": 272,
   "metadata": {},
   "outputs": [
    {
     "name": "stdout",
     "output_type": "stream",
     "text": [
      "ArgMax\n",
      "examples = 640\n",
      "WER = 33.056\tCER = 12.62\n",
      "BeamSearch\n",
      "examples = 640\n",
      "WER = 32.734\tCER = 12.44\n"
     ]
    }
   ],
   "source": [
    "import numpy as np\n",
    "from hw_asr.metric.utils import calc_cer, calc_wer\n",
    "\n",
    "\n",
    "def print_wer_cer(targets, predictions):\n",
    "    assert len(targets) == len(predictions)\n",
    "    print(f'examples = {len(targets)}')\n",
    "    wer = np.mean([calc_wer(target, prediction) for target, prediction in zip(targets, predictions)])\n",
    "    cer = np.mean([calc_cer(target, prediction) for target, prediction in zip(targets, predictions)])\n",
    "    print(f'WER = {wer * 100:.3f}\\tCER = {cer * 100:.2f}')\n",
    "\n",
    "\n",
    "print('ArgMax')\n",
    "print_wer_cer(text, pred_argmax)\n",
    "print('BeamSearch')\n",
    "print_wer_cer(text, pred_beam_search)"
   ]
  },
  {
   "cell_type": "code",
   "execution_count": 273,
   "metadata": {},
   "outputs": [],
   "source": [
    "import gzip\n",
    "import shutil\n",
    "import os\n",
    "from pathlib import Path\n",
    "from speechbrain.utils.data_utils import download_file\n",
    "\n",
    "\n",
    "def download_lm():\n",
    "    url = 'https://www.openslr.org/resources/11/3-gram.pruned.1e-7.arpa.gz'\n",
    "    out_directory = Path('lm_models/')\n",
    "    out_directory.mkdir(exist_ok=True)\n",
    "    model_path = out_directory / '3-gram.pruned.1e-7.arpa'\n",
    "    if not model_path.exists():\n",
    "        extract_path = out_directory / '3-gram.pruned.1e-7.arpa.gz'\n",
    "        download_file(url, extract_path)\n",
    "        with gzip.open(extract_path, 'rb') as f_in, open(model_path, 'wb') as f_out:\n",
    "            shutil.copyfileobj(f_in, f_out)\n",
    "        os.remove(str(extract_path))\n",
    "        with open(model_path) as f:\n",
    "            content = f.read()\n",
    "        with open(model_path, 'w') as f:\n",
    "            f.write(content.lower())\n",
    "\n",
    "\n",
    "download_lm()"
   ]
  },
  {
   "cell_type": "code",
   "execution_count": 274,
   "metadata": {},
   "outputs": [],
   "source": [
    "import arpa.models.base\n",
    "\n",
    "lm = arpa.loadf(\"lm_models/3-gram.pruned.1e-7.arpa\")[0]"
   ]
  },
  {
   "cell_type": "code",
   "execution_count": 342,
   "metadata": {},
   "outputs": [
    {
     "name": "stdout",
     "output_type": "stream",
     "text": [
      "Hypothesis(text='i did not ol i understad whem my marotivio she said', prob=4.39505187552942e-06)\n",
      "Hypothesis(text='i did not ol i understad whem my maroctivio she said', prob=4.327744374469635e-06)\n",
      "Hypothesis(text='i did not ol i understad whem my maotivio she said', prob=4.278617943448285e-06)\n",
      "Hypothesis(text='i did not ol i understad whem my maoctivio she said', prob=4.213378469987102e-06)\n",
      "Hypothesis(text='i did not ol i understad whem mym marotivio she said', prob=3.986966859477987e-06)\n",
      "\n",
      "Hypothesis(text='i did not ol i understad whem mym maoctivio she said', prob=0.00030978413674861646)\n",
      "Hypothesis(text='i did not ol i understad whem mym maotivio she said', prob=9.035877237366624e-05)\n",
      "Hypothesis(text='i did not ol i understad whem mym maoctivia she said', prob=5.590307532250963e-05)\n",
      "Hypothesis(text='i did not ol i understad whem mym maotivia she said', prob=5.222090708913048e-05)\n",
      "Hypothesis(text='i did not ol i understad whem mym maoctivio she said', prob=1.2645778181864379e-05)\n"
     ]
    },
    {
     "data": {
      "text/plain": [
       "'i do not quite understand grandmamma octavia she said'"
      ]
     },
     "execution_count": 342,
     "metadata": {},
     "output_type": "execute_result"
    }
   ],
   "source": [
    "from utils import reload\n",
    "reload('hw_asr')\n",
    "\n",
    "from hw_asr.text_encoder.ctc_char_text_encoder import CTCCharTextEncoder  # noqa\n",
    "\n",
    "text_encoder = CTCCharTextEncoder()\n",
    "text_encoder.lm = lm\n",
    "text_encoder.alpha_len = 2.4\n",
    "text_encoder.alpha_lm = 2\n",
    "\n",
    "text_encoder.use_lm = False\n",
    "EXAMPLE = 10\n",
    "print(*text_encoder.ctc_beam_search(log_probs[EXAMPLE], log_probs_length[EXAMPLE], beam_size=5), sep='\\n')\n",
    "print()\n",
    "\n",
    "text_encoder.use_lm = True\n",
    "print(*text_encoder.ctc_beam_search(log_probs[EXAMPLE], log_probs_length[EXAMPLE], beam_size=5), sep='\\n')\n",
    "text[EXAMPLE]"
   ]
  },
  {
   "cell_type": "code",
   "execution_count": 275,
   "metadata": {},
   "outputs": [
    {
     "data": {
      "image/png": "[encoded data removed]",
      "text/plain": [
       "<Figure size 640x480 with 1 Axes>"
      ]
     },
     "metadata": {},
     "output_type": "display_data"
    },
    {
     "name": "stdout",
     "output_type": "stream",
     "text": [
      "Optimal alpha_len = 2.3670717140116806\n"
     ]
    }
   ],
   "source": [
    "import matplotlib.pyplot as plt\n",
    "from sklearn.linear_model import LinearRegression\n",
    "\n",
    "scores = []\n",
    "lengths = []\n",
    "for j in range(len(text)):\n",
    "    for i in range(len(text[j].split())):\n",
    "        t = ' '.join(text[j].split()[:i + 1])\n",
    "        scores.append(lm.log_s(t, eos=False))\n",
    "        lengths.append(len(t.split()))\n",
    "scores = np.array(scores)\n",
    "lengths = np.array(lengths)\n",
    "\n",
    "model = LinearRegression(fit_intercept=False)\n",
    "model.fit(lengths.reshape(-1, 1), scores)\n",
    "plt.scatter(lengths, scores, label='Observed')\n",
    "plt.scatter(lengths, model.predict(lengths.reshape(-1, 1)), label='Linear Regression')\n",
    "plt.legend()\n",
    "plt.xlabel('len')\n",
    "plt.ylabel('log(score)')\n",
    "plt.show()\n",
    "\n",
    "# log(p) ~ c * len\n",
    "# p ~ exp(c * len)\n",
    "c = model.coef_[0]\n",
    "assert c < 0\n",
    "print(f'Optimal alpha_len = {abs(c)}')"
   ]
  },
  {
   "cell_type": "code",
   "execution_count": 336,
   "metadata": {},
   "outputs": [
    {
     "name": "stdout",
     "output_type": "stream",
     "text": [
      "1/10\n",
      "2/10\n",
      "3/10\n",
      "4/10\n",
      "5/10\n",
      "6/10\n",
      "7/10\n",
      "8/10\n",
      "9/10\n",
      "10/10\n",
      "ArgMax\n",
      "examples = 10\n",
      "WER = 33.289\tCER = 12.69\n",
      "BeamSearch\n",
      "examples = 10\n",
      "WER = 31.825\tCER = 11.85\n",
      "BeamSearch + LM\n",
      "examples = 10\n",
      "WER = 32.225\tCER = 12.54\n"
     ]
    }
   ],
   "source": [
    "N = N_EXAMPLES\n",
    "N = 10\n",
    "pred_lm = []\n",
    "\n",
    "text_encoder.alpha_len = 2.35\n",
    "text_encoder.alpha_lm = 0.5\n",
    "\n",
    "text_encoder.use_lm = True\n",
    "for i in range(N):\n",
    "    print(f'{i + 1}/{N}')\n",
    "    pred_lm.append(text_encoder.ctc_beam_search(log_probs[i], log_probs_length[i], beam_size=30)[0].text)\n",
    "\n",
    "print('ArgMax')\n",
    "print_wer_cer(text[:N], pred_argmax[:N])\n",
    "print('BeamSearch')\n",
    "print_wer_cer(text[:N], pred_beam_search[:N])\n",
    "print('BeamSearch + LM')\n",
    "print_wer_cer(text[:N], pred_lm[:N])"
   ]
  },
  {
   "cell_type": "code",
   "execution_count": 328,
   "metadata": {},
   "outputs": [
    {
     "name": "stderr",
     "output_type": "stream",
     "text": [
      "100%|██████████| 100/100 [00:27<00:00,  3.65it/s]"
     ]
    },
    {
     "name": "stdout",
     "output_type": "stream",
     "text": [
      "examples = 100\n",
      "WER = 34.067\tCER = 13.43\n"
     ]
    },
    {
     "name": "stderr",
     "output_type": "stream",
     "text": [
      "\n"
     ]
    }
   ],
   "source": [
    "print_wer_cer(text[:N], [text_encoder.ctc_beam_search(log_probs[i], log_probs_length[i], beam_size=30)[0].text for i in tqdm(range(N))])"
   ]
  },
  {
   "cell_type": "code",
   "execution_count": 322,
   "metadata": {},
   "outputs": [
    {
     "data": {
      "text/plain": [
       "-0.37425800000000226"
      ]
     },
     "execution_count": 322,
     "metadata": {},
     "output_type": "execute_result"
    }
   ],
   "source": [
    "lm.log_s('i', eos=False) / 3"
   ]
  },
  {
   "cell_type": "code",
   "execution_count": 299,
   "metadata": {},
   "outputs": [
    {
     "data": {
      "text/plain": [
       "'but now the brandon was a ful swing'"
      ]
     },
     "execution_count": 299,
     "metadata": {},
     "output_type": "execute_result"
    }
   ],
   "source": [
    "pred_beam_search[N - 1]"
   ]
  },
  {
   "cell_type": "code",
   "execution_count": 297,
   "metadata": {},
   "outputs": [
    {
     "data": {
      "text/plain": [
       "'but now the brandon was a fuol swing'"
      ]
     },
     "execution_count": 297,
     "metadata": {},
     "output_type": "execute_result"
    }
   ],
   "source": [
    "pred_lm[-1]"
   ]
  }
 ],
 "metadata": {
  "kernelspec": {
   "display_name": "cuda_env",
   "language": "python",
   "name": "python3"
  },
  "language_info": {
   "codemirror_mode": {
    "name": "ipython",
    "version": 3
   },
   "file_extension": ".py",
   "mimetype": "text/x-python",
   "name": "python",
   "nbconvert_exporter": "python",
   "pygments_lexer": "ipython3",
   "version": "3.11.5"
  }
 },
 "nbformat": 4,
 "nbformat_minor": 2
}
